{
  "nbformat": 4,
  "nbformat_minor": 0,
  "metadata": {
    "kernelspec": {
      "display_name": "Python 3",
      "language": "python",
      "name": "python3"
    },
    "language_info": {
      "codemirror_mode": {
        "name": "ipython",
        "version": 3
      },
      "file_extension": ".py",
      "mimetype": "text/x-python",
      "name": "python",
      "nbconvert_exporter": "python",
      "pygments_lexer": "ipython3",
      "version": "3.7.3"
    },
    "colab": {
      "name": "Priyan_Project2.ipynb",
      "provenance": []
    }
  },
  "cells": [
    {
      "cell_type": "markdown",
      "metadata": {
        "id": "6HxHY5mLHzFa",
        "colab_type": "text"
      },
      "source": [
        "# Logistic Regression Classifier - Reviews of Restaurants, Gym and Automotive Categories\n"
      ]
    },
    {
      "cell_type": "markdown",
      "metadata": {
        "id": "IcZm8tMEHzFb",
        "colab_type": "text"
      },
      "source": [
        "### Importing the neccessary packages"
      ]
    },
    {
      "cell_type": "code",
      "metadata": {
        "id": "tW_ebRkbHzFc",
        "colab_type": "code",
        "colab": {
          "base_uri": "https://localhost:8080/",
          "height": 50
        },
        "outputId": "b29caf41-fa54-4b26-f69a-3abcf43a72d7"
      },
      "source": [
        "import pandas as pd\n",
        "import numpy as np\n",
        "from requests import get\n",
        "from bs4 import BeautifulSoup\n",
        "from sklearn.ensemble import RandomForestClassifier\n",
        "from sklearn.linear_model import LogisticRegression\n",
        "from sklearn import preprocessing\n",
        "from gensim.models import word2vec\n",
        "from nltk.tokenize import word_tokenize\n",
        "from nltk.corpus import stopwords \n",
        "import nltk\n",
        "nltk.download('stopwords')\n",
        "import matplotlib.pyplot as plt\n",
        "from sklearn.metrics import plot_confusion_matrix, f1_score\n",
        "from sklearn.model_selection import train_test_split\n",
        "from nltk.stem import PorterStemmer\n",
        "from nltk.stem import WordNetLemmatizer \n",
        "from sklearn.metrics import classification_report, confusion_matrix, accuracy_score\n",
        "import time"
      ],
      "execution_count": 1,
      "outputs": [
        {
          "output_type": "stream",
          "text": [
            "[nltk_data] Downloading package stopwords to /root/nltk_data...\n",
            "[nltk_data]   Package stopwords is already up-to-date!\n"
          ],
          "name": "stdout"
        }
      ]
    },
    {
      "cell_type": "markdown",
      "metadata": {
        "id": "nEtxyWy8HzFf",
        "colab_type": "text"
      },
      "source": [
        "## 1) Scraping Data for Three Categories"
      ]
    },
    {
      "cell_type": "markdown",
      "metadata": {
        "id": "qf6S0x2lHzFf",
        "colab_type": "text"
      },
      "source": [
        "### Storing the URLs of three categories"
      ]
    },
    {
      "cell_type": "code",
      "metadata": {
        "id": "ZF6culD4HzFg",
        "colab_type": "code",
        "colab": {}
      },
      "source": [
        "restr_url = 'http://mlg.ucd.ie/modules/yalp/restaurants_list.html'\n",
        "gym_url = 'http://mlg.ucd.ie/modules/yalp/gym_list.html'\n",
        "automotive_url = 'http://mlg.ucd.ie/modules/yalp/automotive_list.html'\n",
        "\n",
        "# This URL is found common in all the review sites and hence storing it in a variable for future usages.\n",
        "\n",
        "url_p1 = 'http://mlg.ucd.ie/modules/yalp/'"
      ],
      "execution_count": 0,
      "outputs": []
    },
    {
      "cell_type": "markdown",
      "metadata": {
        "id": "FCVVVkdsHzFi",
        "colab_type": "text"
      },
      "source": [
        "### Defining a function scrape_data, which takes URL as input and returns reviews and corresponding rating labels. <br>Rating label is 0 for negative and 1 for positive rating.\n"
      ]
    },
    {
      "cell_type": "code",
      "metadata": {
        "id": "NH5pqUwHHzFi",
        "colab_type": "code",
        "colab": {}
      },
      "source": [
        "#Function to scrap data using beautifulsoup and appending in list\n",
        "\n",
        "def scrape_data(url):\n",
        "    response = get(url)\n",
        "    html_soup = BeautifulSoup(response.text,'html.parser')\n",
        "    \n",
        "    container= html_soup.find('div', id='all')\n",
        "    review_list = []\n",
        "    \n",
        "    for element in container.find_all('h5'):\n",
        "        url_p2=element.a.get('href')\n",
        "        url_ratings = url_p1 + url_p2\n",
        "        \n",
        "        review_response=get(url_ratings)\n",
        "        html_soup=BeautifulSoup(review_response.text,'html.parser')\n",
        "        review_container=html_soup.find_all('div',class_='review')\n",
        "    \n",
        "        for element in review_container:\n",
        "            time.sleep(.05)              # to avoid timeout error\n",
        "            review_temp = []\n",
        "            review_temp.append(element.find('p',class_='review-text').text)\n",
        "            rating_count=int(element.find('p',class_='rating').img.get('alt')[0])\n",
        "            if rating_count>=4:          # mark as positive review\n",
        "                review_temp.append(1)\n",
        "            else:                        # mark as negative review\n",
        "                review_temp.append(0)\n",
        "            \n",
        "            review_list.append(review_temp)\n",
        "                \n",
        "\n",
        "\n",
        "    return review_list\n",
        "    "
      ],
      "execution_count": 0,
      "outputs": []
    },
    {
      "cell_type": "markdown",
      "metadata": {
        "id": "ibJkqn4yHzFk",
        "colab_type": "text"
      },
      "source": [
        "### For the categories restaurant, Gym and Automotive scrape the data using the function scrape_data. <br>Create dataframes for each category using the scraped data."
      ]
    },
    {
      "cell_type": "code",
      "metadata": {
        "id": "ld9-sfagHzFl",
        "colab_type": "code",
        "colab": {}
      },
      "source": [
        "# restaurant reviews\n",
        "restr_review_data=scrape_data(restr_url)\n",
        "restr_df=pd.DataFrame(restr_review_data,columns=['reviewText','label'])\n",
        "# time.sleep(10)\n",
        "\n",
        "# gym reviews\n",
        "gym_review_data=scrape_data(gym_url)\n",
        "gym_df=pd.DataFrame(gym_review_data,columns=['reviewText','label'])\n",
        "# time.sleep(10)\n",
        "\n",
        "# auto reviews\n",
        "auto_review_data=scrape_data(automotive_url)\n",
        "auto_df=pd.DataFrame(auto_review_data,columns=['reviewText','label'])"
      ],
      "execution_count": 0,
      "outputs": []
    },
    {
      "cell_type": "code",
      "metadata": {
        "id": "l8dqAx-THzFn",
        "colab_type": "code",
        "colab": {
          "base_uri": "https://localhost:8080/",
          "height": 195
        },
        "outputId": "ac165d73-760e-4dc5-c4b0-ea4689ef9028"
      },
      "source": [
        "restr_df.head()"
      ],
      "execution_count": 5,
      "outputs": [
        {
          "output_type": "execute_result",
          "data": {
            "text/html": [
              "<div>\n",
              "<style scoped>\n",
              "    .dataframe tbody tr th:only-of-type {\n",
              "        vertical-align: middle;\n",
              "    }\n",
              "\n",
              "    .dataframe tbody tr th {\n",
              "        vertical-align: top;\n",
              "    }\n",
              "\n",
              "    .dataframe thead th {\n",
              "        text-align: right;\n",
              "    }\n",
              "</style>\n",
              "<table border=\"1\" class=\"dataframe\">\n",
              "  <thead>\n",
              "    <tr style=\"text-align: right;\">\n",
              "      <th></th>\n",
              "      <th>reviewText</th>\n",
              "      <th>label</th>\n",
              "    </tr>\n",
              "  </thead>\n",
              "  <tbody>\n",
              "    <tr>\n",
              "      <th>0</th>\n",
              "      <td>My husband and I had a rare afternoon off so w...</td>\n",
              "      <td>0</td>\n",
              "    </tr>\n",
              "    <tr>\n",
              "      <th>1</th>\n",
              "      <td>For years I thought this was only a wine store...</td>\n",
              "      <td>1</td>\n",
              "    </tr>\n",
              "    <tr>\n",
              "      <th>2</th>\n",
              "      <td>This place is so charming! I went with my husb...</td>\n",
              "      <td>1</td>\n",
              "    </tr>\n",
              "    <tr>\n",
              "      <th>3</th>\n",
              "      <td>We have been wanting to try this place for a c...</td>\n",
              "      <td>1</td>\n",
              "    </tr>\n",
              "    <tr>\n",
              "      <th>4</th>\n",
              "      <td>Decor looks ok but layout is too busy. Difficu...</td>\n",
              "      <td>0</td>\n",
              "    </tr>\n",
              "  </tbody>\n",
              "</table>\n",
              "</div>"
            ],
            "text/plain": [
              "                                          reviewText  label\n",
              "0  My husband and I had a rare afternoon off so w...      0\n",
              "1  For years I thought this was only a wine store...      1\n",
              "2  This place is so charming! I went with my husb...      1\n",
              "3  We have been wanting to try this place for a c...      1\n",
              "4  Decor looks ok but layout is too busy. Difficu...      0"
            ]
          },
          "metadata": {
            "tags": []
          },
          "execution_count": 5
        }
      ]
    },
    {
      "cell_type": "code",
      "metadata": {
        "id": "u45O2iEeHzFq",
        "colab_type": "code",
        "colab": {
          "base_uri": "https://localhost:8080/",
          "height": 195
        },
        "outputId": "b8adbdaf-88c8-4bec-a119-762b22412401"
      },
      "source": [
        "gym_df.head()"
      ],
      "execution_count": 6,
      "outputs": [
        {
          "output_type": "execute_result",
          "data": {
            "text/html": [
              "<div>\n",
              "<style scoped>\n",
              "    .dataframe tbody tr th:only-of-type {\n",
              "        vertical-align: middle;\n",
              "    }\n",
              "\n",
              "    .dataframe tbody tr th {\n",
              "        vertical-align: top;\n",
              "    }\n",
              "\n",
              "    .dataframe thead th {\n",
              "        text-align: right;\n",
              "    }\n",
              "</style>\n",
              "<table border=\"1\" class=\"dataframe\">\n",
              "  <thead>\n",
              "    <tr style=\"text-align: right;\">\n",
              "      <th></th>\n",
              "      <th>reviewText</th>\n",
              "      <th>label</th>\n",
              "    </tr>\n",
              "  </thead>\n",
              "  <tbody>\n",
              "    <tr>\n",
              "      <th>0</th>\n",
              "      <td>If you're looking for boxing in the East Valle...</td>\n",
              "      <td>1</td>\n",
              "    </tr>\n",
              "    <tr>\n",
              "      <th>1</th>\n",
              "      <td>I was really excited to try a fun workout rout...</td>\n",
              "      <td>0</td>\n",
              "    </tr>\n",
              "    <tr>\n",
              "      <th>2</th>\n",
              "      <td>I was interested in taking a boxing bootcamp c...</td>\n",
              "      <td>0</td>\n",
              "    </tr>\n",
              "    <tr>\n",
              "      <th>3</th>\n",
              "      <td>I worked out at 1 on 1 boxing for a bout 6 mon...</td>\n",
              "      <td>1</td>\n",
              "    </tr>\n",
              "    <tr>\n",
              "      <th>4</th>\n",
              "      <td>This place literally KICKED my butt every. sin...</td>\n",
              "      <td>1</td>\n",
              "    </tr>\n",
              "  </tbody>\n",
              "</table>\n",
              "</div>"
            ],
            "text/plain": [
              "                                          reviewText  label\n",
              "0  If you're looking for boxing in the East Valle...      1\n",
              "1  I was really excited to try a fun workout rout...      0\n",
              "2  I was interested in taking a boxing bootcamp c...      0\n",
              "3  I worked out at 1 on 1 boxing for a bout 6 mon...      1\n",
              "4  This place literally KICKED my butt every. sin...      1"
            ]
          },
          "metadata": {
            "tags": []
          },
          "execution_count": 6
        }
      ]
    },
    {
      "cell_type": "code",
      "metadata": {
        "id": "XYzzevYPHzFs",
        "colab_type": "code",
        "colab": {
          "base_uri": "https://localhost:8080/",
          "height": 195
        },
        "outputId": "f92d2ce7-9a35-4c38-c8d3-4f350696c4d4"
      },
      "source": [
        "auto_df.head()"
      ],
      "execution_count": 7,
      "outputs": [
        {
          "output_type": "execute_result",
          "data": {
            "text/html": [
              "<div>\n",
              "<style scoped>\n",
              "    .dataframe tbody tr th:only-of-type {\n",
              "        vertical-align: middle;\n",
              "    }\n",
              "\n",
              "    .dataframe tbody tr th {\n",
              "        vertical-align: top;\n",
              "    }\n",
              "\n",
              "    .dataframe thead th {\n",
              "        text-align: right;\n",
              "    }\n",
              "</style>\n",
              "<table border=\"1\" class=\"dataframe\">\n",
              "  <thead>\n",
              "    <tr style=\"text-align: right;\">\n",
              "      <th></th>\n",
              "      <th>reviewText</th>\n",
              "      <th>label</th>\n",
              "    </tr>\n",
              "  </thead>\n",
              "  <tbody>\n",
              "    <tr>\n",
              "      <th>0</th>\n",
              "      <td>The man that was working tonight (8-12-17) was...</td>\n",
              "      <td>0</td>\n",
              "    </tr>\n",
              "    <tr>\n",
              "      <th>1</th>\n",
              "      <td>Chris is a very rude person. Gave me an attitu...</td>\n",
              "      <td>0</td>\n",
              "    </tr>\n",
              "    <tr>\n",
              "      <th>2</th>\n",
              "      <td>One of my favorite gas station to stop at. The...</td>\n",
              "      <td>1</td>\n",
              "    </tr>\n",
              "    <tr>\n",
              "      <th>3</th>\n",
              "      <td>Oh thank Heaven for Seven Eleven! I don't know...</td>\n",
              "      <td>0</td>\n",
              "    </tr>\n",
              "    <tr>\n",
              "      <th>4</th>\n",
              "      <td>Five stars because of the guy who works weekda...</td>\n",
              "      <td>1</td>\n",
              "    </tr>\n",
              "  </tbody>\n",
              "</table>\n",
              "</div>"
            ],
            "text/plain": [
              "                                          reviewText  label\n",
              "0  The man that was working tonight (8-12-17) was...      0\n",
              "1  Chris is a very rude person. Gave me an attitu...      0\n",
              "2  One of my favorite gas station to stop at. The...      1\n",
              "3  Oh thank Heaven for Seven Eleven! I don't know...      0\n",
              "4  Five stars because of the guy who works weekda...      1"
            ]
          },
          "metadata": {
            "tags": []
          },
          "execution_count": 7
        }
      ]
    },
    {
      "cell_type": "markdown",
      "metadata": {
        "id": "0f4Gsc4dHzFv",
        "colab_type": "text"
      },
      "source": [
        "## 2) Preprocessing, Building Predictive Models and Evaluating for each category"
      ]
    },
    {
      "cell_type": "markdown",
      "metadata": {
        "id": "LAP4TM_MHzFv",
        "colab_type": "text"
      },
      "source": [
        "### a) Preprocessing Reviews"
      ]
    },
    {
      "cell_type": "markdown",
      "metadata": {
        "id": "XuD9BVcTHzFv",
        "colab_type": "text"
      },
      "source": [
        "#### First we clean each review. For this we apply following steps:\n",
        "1. Converting to lower case\n",
        "2. Removing punctuations\n",
        "3. Removing stop words\n",
        "4. Stemming of words"
      ]
    },
    {
      "cell_type": "code",
      "metadata": {
        "id": "eIkB-ZimHzFw",
        "colab_type": "code",
        "colab": {}
      },
      "source": [
        "#Cleaning Review Data using various nltk steps\n",
        "\n",
        "def clean(list_of_reviews):\n",
        "    clean_list_of_reviews=[]\n",
        "    \n",
        "    for sentence in list_of_reviews:\n",
        "    # 1) making all words in lower case characters\n",
        "        sentence = sentence.lower()\n",
        "\n",
        "    # 2) remove punctuations for all reviews \n",
        "        tokenizer = nltk.RegexpTokenizer(r\"\\w+\")\n",
        "        sentence = tokenizer.tokenize(sentence)\n",
        "\n",
        "    # 3) Removing stop words from reviews using english word set \n",
        "        stop_words = set(stopwords.words('english')) \n",
        "        sentence = [w for w in sentence if not w in stop_words] \n",
        "\n",
        "    # 4) stemming words using porter stemmer\n",
        "        ps = PorterStemmer()\n",
        "        sentence = [ps.stem(word) for word in sentence]\n",
        "\n",
        "    # appending all reviews to clean_list_of_reviews\n",
        "        clean_list_of_reviews.append(sentence)\n",
        "    \n",
        "    return clean_list_of_reviews"
      ],
      "execution_count": 0,
      "outputs": []
    },
    {
      "cell_type": "code",
      "metadata": {
        "id": "yAwtp55aHzFy",
        "colab_type": "code",
        "colab": {}
      },
      "source": [
        "#calling function and converting to list\n",
        "restr_review_clean=clean(restr_df.reviewText.tolist())\n",
        "gym_review_clean=clean(gym_df.reviewText.tolist())\n",
        "auto_review_clean=clean(auto_df.reviewText.tolist())\n"
      ],
      "execution_count": 0,
      "outputs": []
    },
    {
      "cell_type": "code",
      "metadata": {
        "id": "ecCoOUOjHzF0",
        "colab_type": "code",
        "colab": {
          "base_uri": "https://localhost:8080/",
          "height": 87
        },
        "outputId": "46246f90-4caa-4dbb-a28a-9183bd62fb80"
      },
      "source": [
        "print(\"Before Cleaning: \",restr_df.reviewText.tolist()[2])\n",
        "print(\"\\nAfter cleaning: \",restr_review_clean[2])"
      ],
      "execution_count": 10,
      "outputs": [
        {
          "output_type": "stream",
          "text": [
            "Before Cleaning:  This place is so charming! I went with my husband and we both loved the simple clean decor and romantic lighting. The wine and food were both delicious. Our server was very attentive, friendly, and helpful. I also found it to be very affordable, with a range of wine prices and the option to enjoy some affordable appetizers if you don't want to spend money on a full meal. We will be back!\n",
            "\n",
            "After cleaning:  ['place', 'charm', 'went', 'husband', 'love', 'simpl', 'clean', 'decor', 'romant', 'light', 'wine', 'food', 'delici', 'server', 'attent', 'friendli', 'help', 'also', 'found', 'afford', 'rang', 'wine', 'price', 'option', 'enjoy', 'afford', 'appet', 'want', 'spend', 'money', 'full', 'meal', 'back']\n"
          ],
          "name": "stdout"
        }
      ]
    },
    {
      "cell_type": "markdown",
      "metadata": {
        "id": "dy2wsf7pHzF2",
        "colab_type": "text"
      },
      "source": [
        "#### Next, we use Gensim's Word2Vec implementation to convert a review to a fixed length Vector"
      ]
    },
    {
      "cell_type": "code",
      "metadata": {
        "id": "iCtasQf8HzF2",
        "colab_type": "code",
        "colab": {}
      },
      "source": [
        "#hyperparameters for Word2Vec\n",
        "\n",
        "num_features = 300              \n",
        "min_word_count = 1                   \n",
        "num_workers = 4\n",
        "context = 10  #takes neighboring 10 words in the review into account to form a vector for each word"
      ],
      "execution_count": 0,
      "outputs": []
    },
    {
      "cell_type": "code",
      "metadata": {
        "id": "f-X7EAAcHzF4",
        "colab_type": "code",
        "colab": {}
      },
      "source": [
        "#function to vectorise sentences \n",
        "def sent_vectorizer(sent, model):\n",
        "    sent_vec =[]\n",
        "    numw = 0\n",
        "    for w in sent:\n",
        "        try:\n",
        "            if numw == 0:\n",
        "                sent_vec = model[w]\n",
        "            else:\n",
        "                sent_vec = np.add(sent_vec, model[w]) # get vector for each word in the review and add all\n",
        "            numw+=1\n",
        "        except:\n",
        "            pass\n",
        "    return np.asarray(sent_vec) / numw # return mean of word vectors of each review\n",
        "\n",
        "def vector_iterator(list_of_reviews):\n",
        "    #Using gensim word2vec on a given text corpus\n",
        "    model = word2vec.Word2Vec(list_of_reviews, workers=num_workers, \\\n",
        "            size=num_features, min_count = min_word_count, \\\n",
        "            window = context)\n",
        "    \n",
        "    vector_list=[]\n",
        "    for sentence in list_of_reviews:\n",
        "        vector_list.append(sent_vectorizer(sentence, model)) # calling sentence vectoriser for each review\n",
        "    return vector_list"
      ],
      "execution_count": 0,
      "outputs": []
    },
    {
      "cell_type": "code",
      "metadata": {
        "id": "GQ8JMhASHzF6",
        "colab_type": "code",
        "colab": {
          "base_uri": "https://localhost:8080/",
          "height": 104
        },
        "outputId": "574223a8-fa4b-466a-b5c6-81fb842ac970"
      },
      "source": [
        "#vectorising features using vector iterator function\n",
        "restr_df_feature=pd.DataFrame(vector_iterator(restr_review_clean))\n",
        "gym_df_feature=pd.DataFrame(vector_iterator(gym_review_clean))\n",
        "auto_df_feature=pd.DataFrame(vector_iterator(auto_review_clean))"
      ],
      "execution_count": 13,
      "outputs": [
        {
          "output_type": "stream",
          "text": [
            "/usr/local/lib/python3.6/dist-packages/ipykernel_launcher.py:7: DeprecationWarning: Call to deprecated `__getitem__` (Method will be removed in 4.0.0, use self.wv.__getitem__() instead).\n",
            "  import sys\n",
            "/usr/local/lib/python3.6/dist-packages/ipykernel_launcher.py:9: DeprecationWarning: Call to deprecated `__getitem__` (Method will be removed in 4.0.0, use self.wv.__getitem__() instead).\n",
            "  if __name__ == '__main__':\n"
          ],
          "name": "stderr"
        }
      ]
    },
    {
      "cell_type": "code",
      "metadata": {
        "id": "NctFHmy7HzF8",
        "colab_type": "code",
        "colab": {
          "base_uri": "https://localhost:8080/",
          "height": 185
        },
        "outputId": "f5f74033-f358-462b-cfc4-6a08a93b380e"
      },
      "source": [
        "restr_df_feature.head(3)"
      ],
      "execution_count": 14,
      "outputs": [
        {
          "output_type": "execute_result",
          "data": {
            "text/html": [
              "<div>\n",
              "<style scoped>\n",
              "    .dataframe tbody tr th:only-of-type {\n",
              "        vertical-align: middle;\n",
              "    }\n",
              "\n",
              "    .dataframe tbody tr th {\n",
              "        vertical-align: top;\n",
              "    }\n",
              "\n",
              "    .dataframe thead th {\n",
              "        text-align: right;\n",
              "    }\n",
              "</style>\n",
              "<table border=\"1\" class=\"dataframe\">\n",
              "  <thead>\n",
              "    <tr style=\"text-align: right;\">\n",
              "      <th></th>\n",
              "      <th>0</th>\n",
              "      <th>1</th>\n",
              "      <th>2</th>\n",
              "      <th>3</th>\n",
              "      <th>4</th>\n",
              "      <th>5</th>\n",
              "      <th>6</th>\n",
              "      <th>7</th>\n",
              "      <th>8</th>\n",
              "      <th>9</th>\n",
              "      <th>10</th>\n",
              "      <th>11</th>\n",
              "      <th>12</th>\n",
              "      <th>13</th>\n",
              "      <th>14</th>\n",
              "      <th>15</th>\n",
              "      <th>16</th>\n",
              "      <th>17</th>\n",
              "      <th>18</th>\n",
              "      <th>19</th>\n",
              "      <th>20</th>\n",
              "      <th>21</th>\n",
              "      <th>22</th>\n",
              "      <th>23</th>\n",
              "      <th>24</th>\n",
              "      <th>25</th>\n",
              "      <th>26</th>\n",
              "      <th>27</th>\n",
              "      <th>28</th>\n",
              "      <th>29</th>\n",
              "      <th>30</th>\n",
              "      <th>31</th>\n",
              "      <th>32</th>\n",
              "      <th>33</th>\n",
              "      <th>34</th>\n",
              "      <th>35</th>\n",
              "      <th>36</th>\n",
              "      <th>37</th>\n",
              "      <th>38</th>\n",
              "      <th>39</th>\n",
              "      <th>...</th>\n",
              "      <th>260</th>\n",
              "      <th>261</th>\n",
              "      <th>262</th>\n",
              "      <th>263</th>\n",
              "      <th>264</th>\n",
              "      <th>265</th>\n",
              "      <th>266</th>\n",
              "      <th>267</th>\n",
              "      <th>268</th>\n",
              "      <th>269</th>\n",
              "      <th>270</th>\n",
              "      <th>271</th>\n",
              "      <th>272</th>\n",
              "      <th>273</th>\n",
              "      <th>274</th>\n",
              "      <th>275</th>\n",
              "      <th>276</th>\n",
              "      <th>277</th>\n",
              "      <th>278</th>\n",
              "      <th>279</th>\n",
              "      <th>280</th>\n",
              "      <th>281</th>\n",
              "      <th>282</th>\n",
              "      <th>283</th>\n",
              "      <th>284</th>\n",
              "      <th>285</th>\n",
              "      <th>286</th>\n",
              "      <th>287</th>\n",
              "      <th>288</th>\n",
              "      <th>289</th>\n",
              "      <th>290</th>\n",
              "      <th>291</th>\n",
              "      <th>292</th>\n",
              "      <th>293</th>\n",
              "      <th>294</th>\n",
              "      <th>295</th>\n",
              "      <th>296</th>\n",
              "      <th>297</th>\n",
              "      <th>298</th>\n",
              "      <th>299</th>\n",
              "    </tr>\n",
              "  </thead>\n",
              "  <tbody>\n",
              "    <tr>\n",
              "      <th>0</th>\n",
              "      <td>0.280227</td>\n",
              "      <td>-0.099522</td>\n",
              "      <td>-0.182381</td>\n",
              "      <td>-0.129539</td>\n",
              "      <td>0.117660</td>\n",
              "      <td>0.476186</td>\n",
              "      <td>-0.049913</td>\n",
              "      <td>0.048378</td>\n",
              "      <td>-0.121966</td>\n",
              "      <td>0.154092</td>\n",
              "      <td>0.086722</td>\n",
              "      <td>-0.073226</td>\n",
              "      <td>0.139543</td>\n",
              "      <td>0.450228</td>\n",
              "      <td>-0.225769</td>\n",
              "      <td>-0.407631</td>\n",
              "      <td>0.435657</td>\n",
              "      <td>0.137057</td>\n",
              "      <td>-0.061791</td>\n",
              "      <td>0.479153</td>\n",
              "      <td>-0.111667</td>\n",
              "      <td>-0.544155</td>\n",
              "      <td>-0.007401</td>\n",
              "      <td>-0.753022</td>\n",
              "      <td>-0.220534</td>\n",
              "      <td>0.220685</td>\n",
              "      <td>0.200331</td>\n",
              "      <td>0.567741</td>\n",
              "      <td>-0.282803</td>\n",
              "      <td>0.392609</td>\n",
              "      <td>-0.013766</td>\n",
              "      <td>-0.434460</td>\n",
              "      <td>0.070884</td>\n",
              "      <td>0.369074</td>\n",
              "      <td>0.258372</td>\n",
              "      <td>0.216954</td>\n",
              "      <td>0.050961</td>\n",
              "      <td>0.151224</td>\n",
              "      <td>-0.281124</td>\n",
              "      <td>0.039595</td>\n",
              "      <td>...</td>\n",
              "      <td>0.609023</td>\n",
              "      <td>0.056053</td>\n",
              "      <td>-0.149225</td>\n",
              "      <td>0.099142</td>\n",
              "      <td>-0.228056</td>\n",
              "      <td>0.054792</td>\n",
              "      <td>-0.000504</td>\n",
              "      <td>0.012555</td>\n",
              "      <td>-0.041403</td>\n",
              "      <td>0.082366</td>\n",
              "      <td>0.102889</td>\n",
              "      <td>0.065462</td>\n",
              "      <td>0.039355</td>\n",
              "      <td>-0.128038</td>\n",
              "      <td>-0.070324</td>\n",
              "      <td>0.407765</td>\n",
              "      <td>0.173147</td>\n",
              "      <td>-0.010627</td>\n",
              "      <td>0.844051</td>\n",
              "      <td>-0.044750</td>\n",
              "      <td>0.068320</td>\n",
              "      <td>-0.051550</td>\n",
              "      <td>0.324249</td>\n",
              "      <td>-0.129648</td>\n",
              "      <td>0.087758</td>\n",
              "      <td>-0.211863</td>\n",
              "      <td>-0.340216</td>\n",
              "      <td>0.254021</td>\n",
              "      <td>0.018305</td>\n",
              "      <td>-0.010609</td>\n",
              "      <td>-0.189667</td>\n",
              "      <td>-0.117322</td>\n",
              "      <td>0.005639</td>\n",
              "      <td>0.188049</td>\n",
              "      <td>0.142092</td>\n",
              "      <td>-0.050184</td>\n",
              "      <td>-0.167999</td>\n",
              "      <td>-0.000036</td>\n",
              "      <td>-0.244121</td>\n",
              "      <td>-0.133455</td>\n",
              "    </tr>\n",
              "    <tr>\n",
              "      <th>1</th>\n",
              "      <td>0.244737</td>\n",
              "      <td>-0.082689</td>\n",
              "      <td>-0.154638</td>\n",
              "      <td>-0.107944</td>\n",
              "      <td>0.100475</td>\n",
              "      <td>0.406429</td>\n",
              "      <td>-0.039545</td>\n",
              "      <td>0.044205</td>\n",
              "      <td>-0.106782</td>\n",
              "      <td>0.125683</td>\n",
              "      <td>0.077675</td>\n",
              "      <td>-0.064440</td>\n",
              "      <td>0.123675</td>\n",
              "      <td>0.381981</td>\n",
              "      <td>-0.195485</td>\n",
              "      <td>-0.343779</td>\n",
              "      <td>0.379178</td>\n",
              "      <td>0.119782</td>\n",
              "      <td>-0.058029</td>\n",
              "      <td>0.415137</td>\n",
              "      <td>-0.095829</td>\n",
              "      <td>-0.468664</td>\n",
              "      <td>-0.008197</td>\n",
              "      <td>-0.640242</td>\n",
              "      <td>-0.191143</td>\n",
              "      <td>0.189358</td>\n",
              "      <td>0.174810</td>\n",
              "      <td>0.493768</td>\n",
              "      <td>-0.239390</td>\n",
              "      <td>0.341450</td>\n",
              "      <td>-0.016149</td>\n",
              "      <td>-0.378308</td>\n",
              "      <td>0.055894</td>\n",
              "      <td>0.307800</td>\n",
              "      <td>0.218216</td>\n",
              "      <td>0.184125</td>\n",
              "      <td>0.048849</td>\n",
              "      <td>0.129457</td>\n",
              "      <td>-0.239519</td>\n",
              "      <td>0.033263</td>\n",
              "      <td>...</td>\n",
              "      <td>0.522772</td>\n",
              "      <td>0.042330</td>\n",
              "      <td>-0.129659</td>\n",
              "      <td>0.085535</td>\n",
              "      <td>-0.195200</td>\n",
              "      <td>0.041846</td>\n",
              "      <td>0.001287</td>\n",
              "      <td>0.010954</td>\n",
              "      <td>-0.039938</td>\n",
              "      <td>0.060049</td>\n",
              "      <td>0.094434</td>\n",
              "      <td>0.057354</td>\n",
              "      <td>0.030486</td>\n",
              "      <td>-0.109120</td>\n",
              "      <td>-0.057638</td>\n",
              "      <td>0.352169</td>\n",
              "      <td>0.148669</td>\n",
              "      <td>-0.009571</td>\n",
              "      <td>0.725769</td>\n",
              "      <td>-0.039094</td>\n",
              "      <td>0.054494</td>\n",
              "      <td>-0.045057</td>\n",
              "      <td>0.282517</td>\n",
              "      <td>-0.117986</td>\n",
              "      <td>0.072658</td>\n",
              "      <td>-0.181355</td>\n",
              "      <td>-0.287846</td>\n",
              "      <td>0.214551</td>\n",
              "      <td>0.012607</td>\n",
              "      <td>-0.006771</td>\n",
              "      <td>-0.165797</td>\n",
              "      <td>-0.103357</td>\n",
              "      <td>0.009559</td>\n",
              "      <td>0.157899</td>\n",
              "      <td>0.128497</td>\n",
              "      <td>-0.037639</td>\n",
              "      <td>-0.141653</td>\n",
              "      <td>0.000251</td>\n",
              "      <td>-0.207810</td>\n",
              "      <td>-0.113276</td>\n",
              "    </tr>\n",
              "    <tr>\n",
              "      <th>2</th>\n",
              "      <td>0.273785</td>\n",
              "      <td>-0.092351</td>\n",
              "      <td>-0.173427</td>\n",
              "      <td>-0.118179</td>\n",
              "      <td>0.114335</td>\n",
              "      <td>0.456879</td>\n",
              "      <td>-0.045079</td>\n",
              "      <td>0.048075</td>\n",
              "      <td>-0.123054</td>\n",
              "      <td>0.145184</td>\n",
              "      <td>0.087935</td>\n",
              "      <td>-0.070643</td>\n",
              "      <td>0.139011</td>\n",
              "      <td>0.430851</td>\n",
              "      <td>-0.218186</td>\n",
              "      <td>-0.385683</td>\n",
              "      <td>0.427385</td>\n",
              "      <td>0.135432</td>\n",
              "      <td>-0.063656</td>\n",
              "      <td>0.466161</td>\n",
              "      <td>-0.103894</td>\n",
              "      <td>-0.525770</td>\n",
              "      <td>-0.010706</td>\n",
              "      <td>-0.715111</td>\n",
              "      <td>-0.215909</td>\n",
              "      <td>0.212292</td>\n",
              "      <td>0.194818</td>\n",
              "      <td>0.554988</td>\n",
              "      <td>-0.267101</td>\n",
              "      <td>0.380095</td>\n",
              "      <td>-0.017910</td>\n",
              "      <td>-0.424003</td>\n",
              "      <td>0.062847</td>\n",
              "      <td>0.347401</td>\n",
              "      <td>0.245673</td>\n",
              "      <td>0.207519</td>\n",
              "      <td>0.057364</td>\n",
              "      <td>0.145161</td>\n",
              "      <td>-0.267579</td>\n",
              "      <td>0.037743</td>\n",
              "      <td>...</td>\n",
              "      <td>0.587966</td>\n",
              "      <td>0.047959</td>\n",
              "      <td>-0.143236</td>\n",
              "      <td>0.096080</td>\n",
              "      <td>-0.220454</td>\n",
              "      <td>0.045700</td>\n",
              "      <td>0.000888</td>\n",
              "      <td>0.013183</td>\n",
              "      <td>-0.045545</td>\n",
              "      <td>0.066319</td>\n",
              "      <td>0.104708</td>\n",
              "      <td>0.066168</td>\n",
              "      <td>0.034449</td>\n",
              "      <td>-0.121793</td>\n",
              "      <td>-0.063972</td>\n",
              "      <td>0.393749</td>\n",
              "      <td>0.165947</td>\n",
              "      <td>-0.008970</td>\n",
              "      <td>0.813556</td>\n",
              "      <td>-0.043250</td>\n",
              "      <td>0.061608</td>\n",
              "      <td>-0.049890</td>\n",
              "      <td>0.320331</td>\n",
              "      <td>-0.134415</td>\n",
              "      <td>0.079747</td>\n",
              "      <td>-0.202424</td>\n",
              "      <td>-0.324709</td>\n",
              "      <td>0.242337</td>\n",
              "      <td>0.015008</td>\n",
              "      <td>-0.010147</td>\n",
              "      <td>-0.184627</td>\n",
              "      <td>-0.113430</td>\n",
              "      <td>0.010671</td>\n",
              "      <td>0.177402</td>\n",
              "      <td>0.146758</td>\n",
              "      <td>-0.043016</td>\n",
              "      <td>-0.160196</td>\n",
              "      <td>0.000822</td>\n",
              "      <td>-0.233932</td>\n",
              "      <td>-0.129358</td>\n",
              "    </tr>\n",
              "  </tbody>\n",
              "</table>\n",
              "<p>3 rows × 300 columns</p>\n",
              "</div>"
            ],
            "text/plain": [
              "        0         1         2    ...       297       298       299\n",
              "0  0.280227 -0.099522 -0.182381  ... -0.000036 -0.244121 -0.133455\n",
              "1  0.244737 -0.082689 -0.154638  ...  0.000251 -0.207810 -0.113276\n",
              "2  0.273785 -0.092351 -0.173427  ...  0.000822 -0.233932 -0.129358\n",
              "\n",
              "[3 rows x 300 columns]"
            ]
          },
          "metadata": {
            "tags": []
          },
          "execution_count": 14
        }
      ]
    },
    {
      "cell_type": "markdown",
      "metadata": {
        "id": "_f5y3yD_HzF-",
        "colab_type": "text"
      },
      "source": [
        "#### Therefore, each text review gets converted to 300 length numerical vector"
      ]
    },
    {
      "cell_type": "markdown",
      "metadata": {
        "id": "XAA1gRyHHzF-",
        "colab_type": "text"
      },
      "source": [
        "### b) Building a Predictive Model\n"
      ]
    },
    {
      "cell_type": "markdown",
      "metadata": {
        "id": "W7uTjqCOHzF_",
        "colab_type": "text"
      },
      "source": [
        "#### Define a function train_model() to try out different classifiers"
      ]
    },
    {
      "cell_type": "code",
      "metadata": {
        "id": "Clrd0S0MHzF_",
        "colab_type": "code",
        "colab": {}
      },
      "source": [
        "def train_model(x,y):\n",
        "#     classifier = RandomForestClassifier(n_estimators=100) #gives lesser accuracy\n",
        "    classifier=LogisticRegression(random_state=0)\n",
        "    classifier.fit(x,y)\n",
        "    return classifier;"
      ],
      "execution_count": 0,
      "outputs": []
    },
    {
      "cell_type": "markdown",
      "metadata": {
        "id": "snSsJTJKHzGC",
        "colab_type": "text"
      },
      "source": [
        "#### Train-test split the reviews for Model Validation"
      ]
    },
    {
      "cell_type": "code",
      "metadata": {
        "id": "a7y7WnFYHzGC",
        "colab_type": "code",
        "colab": {}
      },
      "source": [
        "# We define the test ratio as 0.20 using sckit-learn train test spilt. Then we train the model using the train_model function.\n",
        "\n",
        "test_ratio=.2\n",
        "\n",
        "#sckit-learn train test split\n",
        "restr_train_feature, restr_test_feature, restr_train_label, restr_test_label = train_test_split(restr_df_feature, restr_df.iloc[:,1], test_size=test_ratio, random_state=42)\n",
        "gym_train_feature, gym_test_feature, gym_train_label, gym_test_label = train_test_split(gym_df_feature, gym_df.iloc[:,1], test_size=test_ratio, random_state=42)\n",
        "auto_train_feature, auto_test_feature, auto_train_label, auto_test_label = train_test_split(auto_df_feature, auto_df.iloc[:,1], test_size=test_ratio, random_state=42)\n"
      ],
      "execution_count": 0,
      "outputs": []
    },
    {
      "cell_type": "markdown",
      "metadata": {
        "id": "uChmmLGZHzGE",
        "colab_type": "text"
      },
      "source": [
        "#### Training the Models"
      ]
    },
    {
      "cell_type": "code",
      "metadata": {
        "id": "s3YG4S94HzGE",
        "colab_type": "code",
        "colab": {}
      },
      "source": [
        "restr_model_1 = train_model(restr_train_feature, restr_train_label)\n",
        "gym_model_1 = train_model(gym_train_feature, gym_train_label)\n",
        "auto_model_1 = train_model(auto_train_feature, auto_train_label)\n"
      ],
      "execution_count": 0,
      "outputs": []
    },
    {
      "cell_type": "markdown",
      "metadata": {
        "id": "N7jlPAuQHzGH",
        "colab_type": "text"
      },
      "source": [
        "### c) Evaluation and Explanation of Results"
      ]
    },
    {
      "cell_type": "markdown",
      "metadata": {
        "id": "UwiLHs2rHzGH",
        "colab_type": "text"
      },
      "source": [
        "### Restaurant Reviews"
      ]
    },
    {
      "cell_type": "code",
      "metadata": {
        "id": "xUpB7OOoHzGH",
        "colab_type": "code",
        "colab": {
          "base_uri": "https://localhost:8080/",
          "height": 737
        },
        "outputId": "f15cde4d-9a71-4d2a-eb26-a9d543f795d0"
      },
      "source": [
        "# Test and evaluate the performance of restaurant data\n",
        "\n",
        "print(\"Analysis of Restaurant Reviews Model\")\n",
        "print('-----------------------------------------------------')\n",
        "print(\"Model validated on: \",len(restr_test_label),\" reviews\")\n",
        "print(\"--------------------------------------------------------\")\n",
        "print('Baseline, i.e. the ratio of actual positive to total reviews:',restr_test_label.sum()/restr_test_label.count())\n",
        "print(\"--------------------------------------------------------\")\n",
        "\n",
        "restr_predict = restr_model_1.predict(restr_test_feature) \n",
        "print(\"Model Accuracy:\",accuracy_score(restr_test_label, restr_predict))\n",
        "print(\"Model F1-Score:\",f1_score(restr_test_label, restr_predict))\n",
        "print(\"--------------------------------------------------------\")\n",
        "print(\"Confusion matrix:\")\n",
        "print(confusion_matrix(restr_test_label, restr_predict))\n",
        "print(\"\\nAfter Normalization for class imbalance:\")\n",
        "plot_confusion_matrix(restr_model_1, restr_test_feature, restr_test_label, cmap=plt.cm.Blues,normalize='true')\n",
        "plt.show()\n",
        "print(\"--------------------------------------------------------\")\n",
        "print(\"Classification report\")\n",
        "print('\\n')\n",
        "print(classification_report(restr_test_label, restr_predict))\n",
        "    "
      ],
      "execution_count": 18,
      "outputs": [
        {
          "output_type": "stream",
          "text": [
            "Analysis of Restaurant Reviews Model\n",
            "-----------------------------------------------------\n",
            "Model validated on:  400  reviews\n",
            "--------------------------------------------------------\n",
            "Baseline, i.e. the ratio of actual positive to total reviews: 0.585\n",
            "--------------------------------------------------------\n",
            "Model Accuracy: 0.6875\n",
            "Model F1-Score: 0.7714808043875686\n",
            "--------------------------------------------------------\n",
            "Confusion matrix:\n",
            "[[ 64 102]\n",
            " [ 23 211]]\n",
            "\n",
            "After Normalization for class imbalance:\n"
          ],
          "name": "stdout"
        },
        {
          "output_type": "display_data",
          "data": {
            "image/png": "[encoded data removed]",
            "text/plain": [
              "<Figure size 432x288 with 2 Axes>"
            ]
          },
          "metadata": {
            "tags": [],
            "needs_background": "light"
          }
        },
        {
          "output_type": "stream",
          "text": [
            "--------------------------------------------------------\n",
            "Classification report\n",
            "\n",
            "\n",
            "              precision    recall  f1-score   support\n",
            "\n",
            "           0       0.74      0.39      0.51       166\n",
            "           1       0.67      0.90      0.77       234\n",
            "\n",
            "    accuracy                           0.69       400\n",
            "   macro avg       0.70      0.64      0.64       400\n",
            "weighted avg       0.70      0.69      0.66       400\n",
            "\n"
          ],
          "name": "stdout"
        }
      ]
    },
    {
      "cell_type": "markdown",
      "metadata": {
        "id": "3ea6V-BCHzGJ",
        "colab_type": "text"
      },
      "source": [
        "### Gym Reviews"
      ]
    },
    {
      "cell_type": "code",
      "metadata": {
        "id": "8DOLz1bGHzGK",
        "colab_type": "code",
        "colab": {
          "base_uri": "https://localhost:8080/",
          "height": 734
        },
        "outputId": "cf06fb9f-645e-4242-8c6f-87e97f2bf6f6"
      },
      "source": [
        "# Test and evaluate the performance of Gym data\n",
        "\n",
        "print(\"Analysis of Gym Reviews Model\")\n",
        "print('-----------------------------------------------------')\n",
        "print(\"Model validated on: \",len(gym_test_label),\" reviews\")\n",
        "print(\"--------------------------------------------------------\")\n",
        "print('Baseline, i.e. the ratio of actual positive to total reviews:',gym_test_label.sum()/gym_test_label.count())\n",
        "print(\"--------------------------------------------------------\")\n",
        "\n",
        "gym_predict = gym_model_1.predict(gym_test_feature) \n",
        "print(\"Model Accuracy:\",accuracy_score(gym_test_label, gym_predict))\n",
        "print(\"Model F1-Score:\",f1_score(gym_test_label, gym_predict))\n",
        "print(\"--------------------------------------------------------\")\n",
        "print(\"Confusion matrix:\")\n",
        "print(confusion_matrix(gym_test_label, gym_predict))\n",
        "print(\"\\nAfter Normalization for class imbalance:\")\n",
        "plot_confusion_matrix(gym_model_1, gym_test_feature, gym_test_label, cmap=plt.cm.Blues,normalize='true')\n",
        "plt.show()\n",
        "print(\"--------------------------------------------------------\")\n",
        "print(\"Classification report\")\n",
        "print('\\n')\n",
        "print(classification_report(gym_test_label, gym_predict))\n",
        "    \n"
      ],
      "execution_count": 19,
      "outputs": [
        {
          "output_type": "stream",
          "text": [
            "Analysis of Gym Reviews Model\n",
            "-----------------------------------------------------\n",
            "Model validated on:  400  reviews\n",
            "--------------------------------------------------------\n",
            "Baseline, i.e. the ratio of actual positive to total reviews: 0.675\n",
            "--------------------------------------------------------\n",
            "Model Accuracy: 0.82\n",
            "Model F1-Score: 0.8723404255319148\n",
            "--------------------------------------------------------\n",
            "Confusion matrix:\n",
            "[[ 82  48]\n",
            " [ 24 246]]\n",
            "\n",
            "After Normalization for class imbalance:\n"
          ],
          "name": "stdout"
        },
        {
          "output_type": "display_data",
          "data": {
            "image/png": "[encoded data removed]",
            "text/plain": [
              "<Figure size 432x288 with 2 Axes>"
            ]
          },
          "metadata": {
            "tags": [],
            "needs_background": "light"
          }
        },
        {
          "output_type": "stream",
          "text": [
            "--------------------------------------------------------\n",
            "Classification report\n",
            "\n",
            "\n",
            "              precision    recall  f1-score   support\n",
            "\n",
            "           0       0.77      0.63      0.69       130\n",
            "           1       0.84      0.91      0.87       270\n",
            "\n",
            "    accuracy                           0.82       400\n",
            "   macro avg       0.81      0.77      0.78       400\n",
            "weighted avg       0.82      0.82      0.81       400\n",
            "\n"
          ],
          "name": "stdout"
        }
      ]
    },
    {
      "cell_type": "markdown",
      "metadata": {
        "id": "VSSXv07vHzGM",
        "colab_type": "text"
      },
      "source": [
        "### Auto Reviews"
      ]
    },
    {
      "cell_type": "code",
      "metadata": {
        "id": "1eYZU02xHzGM",
        "colab_type": "code",
        "colab": {
          "base_uri": "https://localhost:8080/",
          "height": 733
        },
        "outputId": "f294445d-6369-44c8-e1ef-0c0e57f1aae2"
      },
      "source": [
        "# Test and evaluate the performance of Auto data\n",
        "\n",
        "print(\"Analysis of Auto Reviews Model\")\n",
        "print('-----------------------------------------------------')\n",
        "print(\"Model validated on: \",len(auto_test_label),\" reviews\")\n",
        "print(\"--------------------------------------------------------\")\n",
        "print('Baseline, i.e. the ratio of actual positive to total reviews:',auto_test_label.sum()/auto_test_label.count())\n",
        "print(\"--------------------------------------------------------\")\n",
        "\n",
        "auto_predict = auto_model_1.predict(auto_test_feature) \n",
        "print(\"Model Accuracy:\",accuracy_score(auto_test_label, auto_predict))\n",
        "print(\"Model F1-Score:\",f1_score(auto_test_label, auto_predict))\n",
        "print(\"--------------------------------------------------------\")\n",
        "print(\"Confusion matrix:\")\n",
        "print(confusion_matrix(auto_test_label, auto_predict))\n",
        "print(\"\\nAfter Normalization for class imbalance:\")\n",
        "plot_confusion_matrix(auto_model_1, auto_test_feature, auto_test_label, cmap=plt.cm.Blues,normalize='true')\n",
        "plt.show()\n",
        "print(\"--------------------------------------------------------\")\n",
        "print(\"Classification report\")\n",
        "print('\\n')\n",
        "print(classification_report(auto_test_label, auto_predict))\n",
        "    \n"
      ],
      "execution_count": 20,
      "outputs": [
        {
          "output_type": "stream",
          "text": [
            "Analysis of Auto Reviews Model\n",
            "-----------------------------------------------------\n",
            "Model validated on:  400  reviews\n",
            "--------------------------------------------------------\n",
            "Baseline, i.e. the ratio of actual positive to total reviews: 0.6275\n",
            "--------------------------------------------------------\n",
            "Model Accuracy: 0.7275\n",
            "Model F1-Score: 0.7962616822429905\n",
            "--------------------------------------------------------\n",
            "Confusion matrix:\n",
            "[[ 78  71]\n",
            " [ 38 213]]\n",
            "\n",
            "After Normalization for class imbalance:\n"
          ],
          "name": "stdout"
        },
        {
          "output_type": "display_data",
          "data": {
            "image/png": "[encoded data removed]",
            "text/plain": [
              "<Figure size 432x288 with 2 Axes>"
            ]
          },
          "metadata": {
            "tags": [],
            "needs_background": "light"
          }
        },
        {
          "output_type": "stream",
          "text": [
            "--------------------------------------------------------\n",
            "Classification report\n",
            "\n",
            "\n",
            "              precision    recall  f1-score   support\n",
            "\n",
            "           0       0.67      0.52      0.59       149\n",
            "           1       0.75      0.85      0.80       251\n",
            "\n",
            "    accuracy                           0.73       400\n",
            "   macro avg       0.71      0.69      0.69       400\n",
            "weighted avg       0.72      0.73      0.72       400\n",
            "\n"
          ],
          "name": "stdout"
        }
      ]
    },
    {
      "cell_type": "code",
      "metadata": {
        "id": "R0kfeKDuHzGO",
        "colab_type": "code",
        "colab": {
          "base_uri": "https://localhost:8080/",
          "height": 802
        },
        "outputId": "2ee32e82-fb83-43e9-bbc5-79c19a9f38a9"
      },
      "source": [
        "# Actual distribution of Class Labels\n",
        "\n",
        "restr_df.label.value_counts().plot(kind='bar')\n",
        "print(\"Restaurant labels class distribution\")\n",
        "plt.show()\n",
        "gym_df.label.value_counts().plot(kind='bar')\n",
        "print(\"Gym labels class distribution\")\n",
        "plt.show()\n",
        "print(\"Auto labels class distribution\")\n",
        "auto_df.label.value_counts().plot(kind='bar')\n",
        "plt.show()"
      ],
      "execution_count": 21,
      "outputs": [
        {
          "output_type": "stream",
          "text": [
            "Restaurant labels class distribution\n"
          ],
          "name": "stdout"
        },
        {
          "output_type": "display_data",
          "data": {
            "image/png": "[encoded data removed]",
            "text/plain": [
              "<Figure size 432x288 with 1 Axes>"
            ]
          },
          "metadata": {
            "tags": [],
            "needs_background": "light"
          }
        },
        {
          "output_type": "stream",
          "text": [
            "Gym labels class distribution\n"
          ],
          "name": "stdout"
        },
        {
          "output_type": "display_data",
          "data": {
            "image/png": "[encoded data removed]",
            "text/plain": [
              "<Figure size 432x288 with 1 Axes>"
            ]
          },
          "metadata": {
            "tags": [],
            "needs_background": "light"
          }
        },
        {
          "output_type": "stream",
          "text": [
            "Auto labels class distribution\n"
          ],
          "name": "stdout"
        },
        {
          "output_type": "display_data",
          "data": {
            "image/png": "[encoded data removed]",
            "text/plain": [
              "<Figure size 432x288 with 1 Axes>"
            ]
          },
          "metadata": {
            "tags": [],
            "needs_background": "light"
          }
        }
      ]
    },
    {
      "cell_type": "markdown",
      "metadata": {
        "id": "Tm6u7ngpHzGQ",
        "colab_type": "text"
      },
      "source": [
        "## SUMMARY <br>"
      ]
    },
    {
      "cell_type": "markdown",
      "metadata": {
        "id": "GfG759cHHzGQ",
        "colab_type": "text"
      },
      "source": [
        "###  As can be seen in the above charts, there is a slight class imbalance in the reviews; we have more positive reviews than negative reviews. <br><br> Approximately, 60% of the reviews in each category are Positive. What this means is that if we randomly predict a class label without using any model, we will still have an approximate accuracy of 60%. <br><br>Since the classes are imbalanced because we have more positive revies than negative reviews, we should look at f1 score rather than only accuracy. <br>To measure Recall and Precision at the same time, F1-score helps giving a score using Harmonic Mean in place of Arithmetic Mean.<br><br>An f1-score of 1 is considered perfect. As such, approximately our f1-scores of .78, .87 and 0.80 for Restaurant, Gym and Auto data respectively,  are better than random guessing.<br><br><br>Our models predict accuracies (70%, 81.5% and 73.5%) higher than 60% in each category, therefore, the prediction accuracy is improved in all three categories.<br><br><br>"
      ]
    },
    {
      "cell_type": "markdown",
      "metadata": {
        "id": "tQegtgoLHzGR",
        "colab_type": "text"
      },
      "source": [
        "## 3) Evaluating Model Performance on Reviews of Other Categories"
      ]
    },
    {
      "cell_type": "markdown",
      "metadata": {
        "id": "QuCPMxsSHzGR",
        "colab_type": "text"
      },
      "source": [
        "### a) Training on Restaurant data and Evaluating on Gym and Automotive data"
      ]
    },
    {
      "cell_type": "code",
      "metadata": {
        "id": "l75uj1Q5HzGR",
        "colab_type": "code",
        "colab": {}
      },
      "source": [
        "#training on all Restaurant data\n",
        "restr_model_2 = train_model(restr_df_feature, restr_df.iloc[:,1])"
      ],
      "execution_count": 0,
      "outputs": []
    },
    {
      "cell_type": "code",
      "metadata": {
        "id": "GroEZ3_tHzGT",
        "colab_type": "code",
        "colab": {
          "base_uri": "https://localhost:8080/",
          "height": 370
        },
        "outputId": "fe45e6da-ae0b-445d-8099-ae64c4328049"
      },
      "source": [
        "print(\"Evaluation of Restaurant Classifier on Gym data\")\n",
        "print(\"-------------------------------------------------------------------\")\n",
        "restr_model_gym_pred = restr_model_2.predict(gym_df_feature)\n",
        "\n",
        "print(\"Accuracy: \",accuracy_score(gym_df.iloc[:,1], restr_model_gym_pred))\n",
        "print(\"F1-score: \",f1_score(gym_df.iloc[:,1], restr_model_gym_pred))\n",
        "# print('\\n')\n",
        "print(\"-------------------------------------------------------------------------\")\n",
        "print(\"Confusion matrix:\")\n",
        "print(confusion_matrix(gym_df.iloc[:,1], restr_model_gym_pred))\n",
        "print('\\n')\n",
        "print(\"Classification Report:\")\n",
        "print(\"------------------------------------------------------------------------------\")\n",
        "print(classification_report(gym_df.iloc[:,1], restr_model_gym_pred))\n"
      ],
      "execution_count": 23,
      "outputs": [
        {
          "output_type": "stream",
          "text": [
            "Evaluation of Restaurant Classifier on Gym data\n",
            "-------------------------------------------------------------------\n",
            "Accuracy:  0.6995\n",
            "F1-score:  0.8116577875274208\n",
            "-------------------------------------------------------------------------\n",
            "Confusion matrix:\n",
            "[[ 104  597]\n",
            " [   4 1295]]\n",
            "\n",
            "\n",
            "Classification Report:\n",
            "------------------------------------------------------------------------------\n",
            "              precision    recall  f1-score   support\n",
            "\n",
            "           0       0.96      0.15      0.26       701\n",
            "           1       0.68      1.00      0.81      1299\n",
            "\n",
            "    accuracy                           0.70      2000\n",
            "   macro avg       0.82      0.57      0.53      2000\n",
            "weighted avg       0.78      0.70      0.62      2000\n",
            "\n"
          ],
          "name": "stdout"
        }
      ]
    },
    {
      "cell_type": "code",
      "metadata": {
        "id": "OKmRRgWZHzGV",
        "colab_type": "code",
        "colab": {
          "base_uri": "https://localhost:8080/",
          "height": 423
        },
        "outputId": "8f5d558e-ee49-4ac6-8987-edc29d53a184"
      },
      "source": [
        "print(\"Evaluation of Restaurant Classifier on Auto data\")\n",
        "print(\"-------------------------------------------------------------------\")\n",
        "restr_model_auto_pred = restr_model_2.predict(auto_df_feature)\n",
        "\n",
        "print(\"Accuracy:\",accuracy_score(auto_df.iloc[:,1], restr_model_auto_pred))\n",
        "print(\"F1-score:\",f1_score(auto_df.iloc[:,1], restr_model_auto_pred))\n",
        "print(\"-------------------------------------------------------------------\")\n",
        "print(\"Confusion matrix:\")\n",
        "print(confusion_matrix(auto_df.iloc[:,1], restr_model_auto_pred))\n",
        "print('\\n')\n",
        "print(\"Classification Report:\")\n",
        "print(\"-------------------------------------------------------------------------------------\")\n",
        "print(classification_report(auto_df.iloc[:,1], restr_model_auto_pred))\n",
        "# print('\\n')"
      ],
      "execution_count": 24,
      "outputs": [
        {
          "output_type": "stream",
          "text": [
            "Evaluation of Restaurant Classifier on Auto data\n",
            "-------------------------------------------------------------------\n",
            "Accuracy: 0.394\n",
            "F1-score: 0.0\n",
            "-------------------------------------------------------------------\n",
            "Confusion matrix:\n",
            "[[ 788    0]\n",
            " [1212    0]]\n",
            "\n",
            "\n",
            "Classification Report:\n",
            "-------------------------------------------------------------------------------------\n",
            "              precision    recall  f1-score   support\n",
            "\n",
            "           0       0.39      1.00      0.57       788\n",
            "           1       0.00      0.00      0.00      1212\n",
            "\n",
            "    accuracy                           0.39      2000\n",
            "   macro avg       0.20      0.50      0.28      2000\n",
            "weighted avg       0.16      0.39      0.22      2000\n",
            "\n"
          ],
          "name": "stdout"
        },
        {
          "output_type": "stream",
          "text": [
            "/usr/local/lib/python3.6/dist-packages/sklearn/metrics/_classification.py:1272: UndefinedMetricWarning: Precision and F-score are ill-defined and being set to 0.0 in labels with no predicted samples. Use `zero_division` parameter to control this behavior.\n",
            "  _warn_prf(average, modifier, msg_start, len(result))\n"
          ],
          "name": "stderr"
        }
      ]
    },
    {
      "cell_type": "markdown",
      "metadata": {
        "id": "lTBx-VxnHzGW",
        "colab_type": "text"
      },
      "source": [
        "### b) Training on Gym data and evaluating on Restaurant and Automotive data"
      ]
    },
    {
      "cell_type": "code",
      "metadata": {
        "id": "9udCmuECHzGW",
        "colab_type": "code",
        "colab": {}
      },
      "source": [
        "gym_model_2 = train_model(gym_df_feature, gym_df.iloc[:,1])"
      ],
      "execution_count": 0,
      "outputs": []
    },
    {
      "cell_type": "code",
      "metadata": {
        "id": "nCoNWG5OHzGZ",
        "colab_type": "code",
        "colab": {
          "base_uri": "https://localhost:8080/",
          "height": 423
        },
        "outputId": "10583a82-0a51-4518-df11-1a2dd91b1563"
      },
      "source": [
        "print(\"Evaluation of Gym Classifier on Restuarant data\")\n",
        "print(\"-------------------------------------------------------------------\")\n",
        "gym_model_restr_pred = gym_model_2.predict(restr_df_feature)\n",
        "\n",
        "print(\"Accuracy:\",accuracy_score(restr_df.iloc[:,1], gym_model_restr_pred))\n",
        "print(\"F1-score:\",f1_score(restr_df.iloc[:,1], gym_model_restr_pred))\n",
        "# print('\\n')\n",
        "print(\"-------------------------------------------------------------------------\")\n",
        "print(\"Confusion matrix:\")\n",
        "print(confusion_matrix(restr_df.iloc[:,1], gym_model_restr_pred))\n",
        "print('\\n')\n",
        "print(\"Classification Report:\")\n",
        "print(\"------------------------------------------------------------------------------\")\n",
        "print(classification_report(restr_df.iloc[:,1], gym_model_restr_pred))\n",
        "# print('\\n')"
      ],
      "execution_count": 26,
      "outputs": [
        {
          "output_type": "stream",
          "text": [
            "Evaluation of Gym Classifier on Restuarant data\n",
            "-------------------------------------------------------------------\n",
            "Accuracy: 0.419\n",
            "F1-score: 0.0\n",
            "-------------------------------------------------------------------------\n",
            "Confusion matrix:\n",
            "[[ 838    0]\n",
            " [1162    0]]\n",
            "\n",
            "\n",
            "Classification Report:\n",
            "------------------------------------------------------------------------------\n",
            "              precision    recall  f1-score   support\n",
            "\n",
            "           0       0.42      1.00      0.59       838\n",
            "           1       0.00      0.00      0.00      1162\n",
            "\n",
            "    accuracy                           0.42      2000\n",
            "   macro avg       0.21      0.50      0.30      2000\n",
            "weighted avg       0.18      0.42      0.25      2000\n",
            "\n"
          ],
          "name": "stdout"
        },
        {
          "output_type": "stream",
          "text": [
            "/usr/local/lib/python3.6/dist-packages/sklearn/metrics/_classification.py:1272: UndefinedMetricWarning: Precision and F-score are ill-defined and being set to 0.0 in labels with no predicted samples. Use `zero_division` parameter to control this behavior.\n",
            "  _warn_prf(average, modifier, msg_start, len(result))\n"
          ],
          "name": "stderr"
        }
      ]
    },
    {
      "cell_type": "code",
      "metadata": {
        "id": "Yf7MbLsmHzGa",
        "colab_type": "code",
        "colab": {
          "base_uri": "https://localhost:8080/",
          "height": 423
        },
        "outputId": "088e4d8e-5fc9-4600-e232-a1439ee00d44"
      },
      "source": [
        "print(\"Evaluation of Gym Classifier on Auto data\")\n",
        "print(\"-------------------------------------------------------------------\")\n",
        "gym_model_auto_pred = gym_model_2.predict(auto_df_feature)\n",
        "\n",
        "print(\"Accuracy:\",accuracy_score(auto_df.iloc[:,1], gym_model_auto_pred))\n",
        "print(\"F1-score:\",f1_score(auto_df.iloc[:,1], gym_model_auto_pred))\n",
        "print(\"-------------------------------------------------------------------------\")\n",
        "# print('\\n')\n",
        "print(\"Confusion matrix:\")\n",
        "print(confusion_matrix(auto_df.iloc[:,1], gym_model_auto_pred))\n",
        "print('\\n')\n",
        "print(\"Classification Report:\")\n",
        "print(\"------------------------------------------------------------------------------\")\n",
        "print(classification_report(auto_df.iloc[:,1], gym_model_auto_pred))\n",
        "# print('\\n')"
      ],
      "execution_count": 27,
      "outputs": [
        {
          "output_type": "stream",
          "text": [
            "Evaluation of Gym Classifier on Auto data\n",
            "-------------------------------------------------------------------\n",
            "Accuracy: 0.394\n",
            "F1-score: 0.0\n",
            "-------------------------------------------------------------------------\n",
            "Confusion matrix:\n",
            "[[ 788    0]\n",
            " [1212    0]]\n",
            "\n",
            "\n",
            "Classification Report:\n",
            "------------------------------------------------------------------------------\n",
            "              precision    recall  f1-score   support\n",
            "\n",
            "           0       0.39      1.00      0.57       788\n",
            "           1       0.00      0.00      0.00      1212\n",
            "\n",
            "    accuracy                           0.39      2000\n",
            "   macro avg       0.20      0.50      0.28      2000\n",
            "weighted avg       0.16      0.39      0.22      2000\n",
            "\n"
          ],
          "name": "stdout"
        },
        {
          "output_type": "stream",
          "text": [
            "/usr/local/lib/python3.6/dist-packages/sklearn/metrics/_classification.py:1272: UndefinedMetricWarning: Precision and F-score are ill-defined and being set to 0.0 in labels with no predicted samples. Use `zero_division` parameter to control this behavior.\n",
            "  _warn_prf(average, modifier, msg_start, len(result))\n"
          ],
          "name": "stderr"
        }
      ]
    },
    {
      "cell_type": "markdown",
      "metadata": {
        "id": "UiCMVZhZHzGc",
        "colab_type": "text"
      },
      "source": [
        "### c) Training on Automotive data and evaluating on Restaurant and Gym data"
      ]
    },
    {
      "cell_type": "code",
      "metadata": {
        "id": "o4EnnfLlHzGc",
        "colab_type": "code",
        "colab": {}
      },
      "source": [
        "auto_model_2 = train_model(auto_df_feature, auto_df.iloc[:,1])"
      ],
      "execution_count": 0,
      "outputs": []
    },
    {
      "cell_type": "code",
      "metadata": {
        "id": "0mkGugFQHzGf",
        "colab_type": "code",
        "colab": {
          "base_uri": "https://localhost:8080/",
          "height": 457
        },
        "outputId": "54b4ba34-99ce-42d8-e28b-08c132cba921"
      },
      "source": [
        "print(\"Evaluation of Auto Classifier on Restaurant data\")\n",
        "print(\"-------------------------------------------------------------------\")\n",
        "auto_model_restr_pred = auto_model_2.predict(restr_df_feature)\n",
        "\n",
        "print(\"Accuracy:\",accuracy_score(restr_df.iloc[:,1], auto_model_restr_pred))\n",
        "print(\"F1-score:\",f1_score(restr_df.iloc[:,1], auto_model_restr_pred))\n",
        "# print('\\n')\n",
        "print(\"--------------------------------------------------------------------------------\")\n",
        "print(\"Confusion matrix:\")\n",
        "print(confusion_matrix(restr_df.iloc[:,1], auto_model_restr_pred))\n",
        "print('\\n')\n",
        "print(\"Classification Report:\")\n",
        "print(\"-------------------------------------------------------------------------------------\")\n",
        "print(classification_report(restr_df.iloc[:,1], auto_model_restr_pred))\n",
        "print('\\n')"
      ],
      "execution_count": 29,
      "outputs": [
        {
          "output_type": "stream",
          "text": [
            "Evaluation of Auto Classifier on Restaurant data\n",
            "-------------------------------------------------------------------\n",
            "Accuracy: 0.419\n",
            "F1-score: 0.0\n",
            "--------------------------------------------------------------------------------\n",
            "Confusion matrix:\n",
            "[[ 838    0]\n",
            " [1162    0]]\n",
            "\n",
            "\n",
            "Classification Report:\n",
            "-------------------------------------------------------------------------------------\n",
            "              precision    recall  f1-score   support\n",
            "\n",
            "           0       0.42      1.00      0.59       838\n",
            "           1       0.00      0.00      0.00      1162\n",
            "\n",
            "    accuracy                           0.42      2000\n",
            "   macro avg       0.21      0.50      0.30      2000\n",
            "weighted avg       0.18      0.42      0.25      2000\n",
            "\n",
            "\n",
            "\n"
          ],
          "name": "stdout"
        },
        {
          "output_type": "stream",
          "text": [
            "/usr/local/lib/python3.6/dist-packages/sklearn/metrics/_classification.py:1272: UndefinedMetricWarning: Precision and F-score are ill-defined and being set to 0.0 in labels with no predicted samples. Use `zero_division` parameter to control this behavior.\n",
            "  _warn_prf(average, modifier, msg_start, len(result))\n"
          ],
          "name": "stderr"
        }
      ]
    },
    {
      "cell_type": "code",
      "metadata": {
        "id": "ZUy01v0fHzGg",
        "colab_type": "code",
        "colab": {
          "base_uri": "https://localhost:8080/",
          "height": 370
        },
        "outputId": "1c7cec06-332d-424e-e152-e5a89d572363"
      },
      "source": [
        "print(\"Evaluation of Auto Classifier on Gym data\")\n",
        "print(\"-------------------------------------------------------------------\")\n",
        "auto_model_gym_pred = auto_model_2.predict(gym_df_feature)\n",
        "\n",
        "print(\"Accuracy::\",accuracy_score(gym_df.iloc[:,1], auto_model_gym_pred))\n",
        "print(\"F1-score:\",f1_score(gym_df.iloc[:,1], auto_model_gym_pred))\n",
        "# print('\\n')\n",
        "print(\"--------------------------------------------------------------------------------\")\n",
        "print(\"Confusion matrix:\")\n",
        "print(confusion_matrix(gym_df.iloc[:,1], auto_model_gym_pred))\n",
        "print('\\n')\n",
        "print(\"Classification Report:\")\n",
        "print(\"------------------------------------------------------------------------------\")\n",
        "print(classification_report(gym_df.iloc[:,1], auto_model_gym_pred))\n",
        "# print('\\n')"
      ],
      "execution_count": 30,
      "outputs": [
        {
          "output_type": "stream",
          "text": [
            "Evaluation of Auto Classifier on Gym data\n",
            "-------------------------------------------------------------------\n",
            "Accuracy:: 0.8075\n",
            "F1-score: 0.8547717842323651\n",
            "--------------------------------------------------------------------------------\n",
            "Confusion matrix:\n",
            "[[ 482  219]\n",
            " [ 166 1133]]\n",
            "\n",
            "\n",
            "Classification Report:\n",
            "------------------------------------------------------------------------------\n",
            "              precision    recall  f1-score   support\n",
            "\n",
            "           0       0.74      0.69      0.71       701\n",
            "           1       0.84      0.87      0.85      1299\n",
            "\n",
            "    accuracy                           0.81      2000\n",
            "   macro avg       0.79      0.78      0.78      2000\n",
            "weighted avg       0.81      0.81      0.81      2000\n",
            "\n"
          ],
          "name": "stdout"
        }
      ]
    },
    {
      "cell_type": "markdown",
      "metadata": {
        "id": "qzChw6A7HzGi",
        "colab_type": "text"
      },
      "source": [
        "## Summary\n",
        "### While we get accuracies which are better than random guessing in the individual models in part (2) (see diagonal of the table below), this is not the case when using reviews from other categories in part (3) <br>Approximate accuracies:\n",
        "<table><thead><tr><th>Model Trained On<br>Validated On</th><th>Restaurant</th><th>Gym</th><th>Auto</th></tr></thead><tbody><tr><td>Restaurant</td><td>70%</td><td>41.9%</td><td>57.9%</td></tr><tr><td>Gym</td><td>35.9%</td><td>81.5%</td><td>65.5%</td></tr><tr><td>Auto</td><td>39.4%</td><td>39.4%</td><td>73.5</td></tr></tbody></table>\n",
        "\n",
        "\n",
        "### This is possibly because across categories, the reviews and words used in the reviews are highly different. <br>However, it is interesting to note that with Auto Model, we get good accuracy and F1-score on both Restaurant data and Gym data.<br><br>Nevertheless, a more generalised model would help in improving cross-category classification accuracy. <br>However, it is likely that such adjustment would cause model performance to fall within the category."
      ]
    }
  ]
}